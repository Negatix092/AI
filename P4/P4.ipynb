{
 "cells": [
  {
   "cell_type": "markdown",
   "metadata": {},
   "source": [
    "# Definiciones"
   ]
  },
  {
   "cell_type": "code",
   "execution_count": 1,
   "metadata": {},
   "outputs": [],
   "source": [
    "import random\n",
    "import numpy as np\n",
    "import matplotlib.pyplot as plt\n",
    "import seaborn as sns\n",
    "from deap import base, creator, tools, algorithms\n",
    "from pyproj import Proj\n",
    "from geopy.distance import geodesic\n",
    "\n",
    "# Definir las coordenadas de las ciudades\n",
    "cities = {\n",
    "    \"Seattle\": (47.608013, -122.335167),\n",
    "    \"Boise\": (43.616616, -116.200886),\n",
    "    \"Everett\": (47.967306, -122.201399),\n",
    "    \"Pendleton\": (45.672075, -118.788597),\n",
    "    \"Biggs\": (45.669846, -120.832841),\n",
    "    \"Portland\": (45.520247, -122.674194),\n",
    "    \"Twin Falls\": (42.570446, -114.460255),\n",
    "    \"Bend\": (44.058173, -121.315310),\n",
    "    \"Spokane\": (47.657193, -117.423510),\n",
    "    \"Grant Pass\": (42.441561, -123.339336),\n",
    "    \"Burns\": (43.586126, -119.054413),\n",
    "    \"Eugene\": (44.050505, -123.095051),\n",
    "    \"Lakeview\": (42.188772, -120.345792),\n",
    "    \"Missoula\": (46.870105, -113.995267)\n",
    "}\n",
    "\n",
    "# Proyección cartográfica\n",
    "projection = Proj(proj='aeqd', ellps='WGS84', datum='WGS84', lat_0=0, lon_0=0)\n",
    "\n",
    "def project_coordinates(lon, lat):\n",
    "    x, y = projection(lon, lat)\n",
    "    return x, y\n",
    "\n",
    "# Proyectar las coordenadas de las ciudades\n",
    "projected_cities = {city: project_coordinates(lon, lat) for city, (lat, lon) in cities.items()}"
   ]
  },
  {
   "cell_type": "markdown",
   "metadata": {},
   "source": [
    "# Función de Fitness y Configuraión del Algoritmo Genético"
   ]
  },
  {
   "cell_type": "code",
   "execution_count": 2,
   "metadata": {},
   "outputs": [],
   "source": [
    "# Convertir índices a nombres de ciudades\n",
    "def indices_to_cities(indices):\n",
    "    return [list(cities.keys())[i] for i in indices]\n",
    "\n",
    "def calculate_total_distance(indices):\n",
    "    route = indices_to_cities(indices)\n",
    "    total_distance = 0\n",
    "    for i in range(len(route)):\n",
    "        city_a = route[i]\n",
    "        city_b = route[(i + 1) % len(route)]\n",
    "        total_distance += geodesic(cities[city_a], cities[city_b]).kilometers\n",
    "    return total_distance,\n",
    "\n",
    "\n",
    "# Crear el objeto fitness y los individuos\n",
    "creator.create(\"FitnessMin\", base.Fitness, weights=(-1.0,))\n",
    "creator.create(\"Individual\", list, fitness=creator.FitnessMin)\n",
    "\n",
    "\n",
    "toolbox = base.Toolbox()\n",
    "\n",
    "# Función para crear una ruta aleatoria\n",
    "toolbox.register(\"indices\", random.sample, range(len(cities)), len(cities))\n",
    "toolbox.register(\"individual\", tools.initIterate, creator.Individual, toolbox.indices)\n",
    "toolbox.register(\"population\", tools.initRepeat, list, toolbox.individual)\n",
    "\n",
    "# Función de fitness\n",
    "toolbox.register(\"evaluate\", calculate_total_distance)\n",
    "\n",
    "# Operadores genéticos\n",
    "toolbox.register(\"select\", tools.selTournament, tournsize=2)\n",
    "toolbox.register(\"mate\", tools.cxOrdered)\n",
    "toolbox.register(\"mutate\", tools.mutShuffleIndexes, indpb=1.0/len(cities))"
   ]
  },
  {
   "cell_type": "markdown",
   "metadata": {},
   "source": [
    "# Algoritmo Genético"
   ]
  },
  {
   "cell_type": "code",
   "execution_count": null,
   "metadata": {},
   "outputs": [],
   "source": []
  }
 ],
 "metadata": {
  "kernelspec": {
   "display_name": "Python 3",
   "language": "python",
   "name": "python3"
  },
  "language_info": {
   "codemirror_mode": {
    "name": "ipython",
    "version": 3
   },
   "file_extension": ".py",
   "mimetype": "text/x-python",
   "name": "python",
   "nbconvert_exporter": "python",
   "pygments_lexer": "ipython3",
   "version": "3.11.2"
  }
 },
 "nbformat": 4,
 "nbformat_minor": 2
}
